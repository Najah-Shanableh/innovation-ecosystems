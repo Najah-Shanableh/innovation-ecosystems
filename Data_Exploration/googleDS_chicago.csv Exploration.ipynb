{
 "cells": [
  {
   "cell_type": "code",
   "execution_count": 8,
   "metadata": {
    "collapsed": false
   },
   "outputs": [
    {
     "name": "stdout",
     "output_type": "stream",
     "text": [
      "Populating the interactive namespace from numpy and matplotlib\n"
     ]
    }
   ],
   "source": [
    "%pylab inline\n",
    "import psycopg2 \n",
    "import os \n",
    "import pandas as pd\n",
    "import numpy as np\n",
    "\n",
    "pd.options.display.max_columns = 100\n",
    "pd.options.display.max_rows = 100"
   ]
  },
  {
   "cell_type": "code",
   "execution_count": 2,
   "metadata": {
    "collapsed": true
   },
   "outputs": [],
   "source": [
    "goog = pd.read_csv('../googleDS_chicago.csv')"
   ]
  },
  {
   "cell_type": "code",
   "execution_count": 3,
   "metadata": {
    "collapsed": false
   },
   "outputs": [
    {
     "data": {
      "text/plain": [
       "(119270, 4)"
      ]
     },
     "execution_count": 3,
     "metadata": {},
     "output_type": "execute_result"
    }
   ],
   "source": [
    "goog.shape"
   ]
  },
  {
   "cell_type": "code",
   "execution_count": 4,
   "metadata": {
    "collapsed": false
   },
   "outputs": [
    {
     "data": {
      "text/html": [
       "<div style=\"max-height:1000px;max-width:1500px;overflow:auto;\">\n",
       "<table border=\"1\" class=\"dataframe\">\n",
       "  <thead>\n",
       "    <tr style=\"text-align: right;\">\n",
       "      <th></th>\n",
       "      <th>city</th>\n",
       "      <th>y</th>\n",
       "      <th>x</th>\n",
       "      <th>category</th>\n",
       "    </tr>\n",
       "  </thead>\n",
       "  <tbody>\n",
       "    <tr>\n",
       "      <th>0</th>\n",
       "      <td> Chicago</td>\n",
       "      <td> 42.142400</td>\n",
       "      <td>-87.532400</td>\n",
       "      <td>  store</td>\n",
       "    </tr>\n",
       "    <tr>\n",
       "      <th>1</th>\n",
       "      <td> Chicago</td>\n",
       "      <td> 42.085316</td>\n",
       "      <td>-87.697584</td>\n",
       "      <td>   park</td>\n",
       "    </tr>\n",
       "    <tr>\n",
       "      <th>2</th>\n",
       "      <td> Chicago</td>\n",
       "      <td> 42.083473</td>\n",
       "      <td>-87.695208</td>\n",
       "      <td> doctor</td>\n",
       "    </tr>\n",
       "    <tr>\n",
       "      <th>3</th>\n",
       "      <td> Chicago</td>\n",
       "      <td> 42.079037</td>\n",
       "      <td>-87.685848</td>\n",
       "      <td>   park</td>\n",
       "    </tr>\n",
       "    <tr>\n",
       "      <th>4</th>\n",
       "      <td> Chicago</td>\n",
       "      <td> 42.080651</td>\n",
       "      <td>-87.689680</td>\n",
       "      <td>   park</td>\n",
       "    </tr>\n",
       "  </tbody>\n",
       "</table>\n",
       "</div>"
      ],
      "text/plain": [
       "      city          y          x category\n",
       "0  Chicago  42.142400 -87.532400    store\n",
       "1  Chicago  42.085316 -87.697584     park\n",
       "2  Chicago  42.083473 -87.695208   doctor\n",
       "3  Chicago  42.079037 -87.685848     park\n",
       "4  Chicago  42.080651 -87.689680     park"
      ]
     },
     "execution_count": 4,
     "metadata": {},
     "output_type": "execute_result"
    }
   ],
   "source": [
    "goog.head()"
   ]
  },
  {
   "cell_type": "code",
   "execution_count": 5,
   "metadata": {
    "collapsed": false
   },
   "outputs": [
    {
     "data": {
      "text/plain": [
       "city         object\n",
       "y           float64\n",
       "x           float64\n",
       "category     object\n",
       "dtype: object"
      ]
     },
     "execution_count": 5,
     "metadata": {},
     "output_type": "execute_result"
    }
   ],
   "source": [
    "goog.dtypes"
   ]
  },
  {
   "cell_type": "code",
   "execution_count": 6,
   "metadata": {
    "collapsed": false
   },
   "outputs": [
    {
     "data": {
      "text/plain": [
       "Index([u'city', u'y', u'x', u'category'], dtype='object')"
      ]
     },
     "execution_count": 6,
     "metadata": {},
     "output_type": "execute_result"
    }
   ],
   "source": [
    "goog.columns"
   ]
  },
  {
   "cell_type": "code",
   "execution_count": 9,
   "metadata": {
    "collapsed": false
   },
   "outputs": [
    {
     "name": "stdout",
     "output_type": "stream",
     "text": [
      "city\n",
      "Chicago    119270\n",
      "dtype: int64\n",
      "\n",
      "y\n",
      "41.878113    31\n",
      "41.832370    26\n",
      "41.957501    25\n",
      "41.902200    25\n",
      "41.989774    23\n",
      "41.702667    23\n",
      "41.964863    22\n",
      "42.138242    21\n",
      "41.719530    21\n",
      "41.703132    20\n",
      "41.909404    20\n",
      "41.795051    20\n",
      "41.613678    19\n",
      "41.845801    19\n",
      "41.705581    18\n",
      "...\n",
      "42.025376    1\n",
      "41.578387    1\n",
      "41.874470    1\n",
      "41.755373    1\n",
      "41.742323    1\n",
      "41.894975    1\n",
      "41.570416    1\n",
      "41.573498    1\n",
      "41.658885    1\n",
      "41.625343    1\n",
      "42.118688    1\n",
      "41.628930    1\n",
      "41.980073    1\n",
      "41.620849    1\n",
      "41.615584    1\n",
      "Length: 79560, dtype: int64\n",
      "\n",
      "x\n",
      "-87.844821    35\n",
      "-87.629798    32\n",
      "-87.568184    26\n",
      "-87.782633    22\n",
      "-87.631739    22\n",
      "-87.751730    21\n",
      "-87.810200    21\n",
      "-87.667976    20\n",
      "-87.747960    20\n",
      "-87.763974    19\n",
      "-87.711578    19\n",
      "-87.810670    18\n",
      "-87.653180    18\n",
      "-87.803562    18\n",
      "-87.866335    18\n",
      "...\n",
      "-87.780641    1\n",
      "-87.681725    1\n",
      "-87.740346    1\n",
      "-87.705619    1\n",
      "-87.522088    1\n",
      "-87.674186    1\n",
      "-87.723114    1\n",
      "-87.484119    1\n",
      "-87.800945    1\n",
      "-87.804616    1\n",
      "-87.959870    1\n",
      "-87.938712    1\n",
      "-87.812560    1\n",
      "-87.586369    1\n",
      "-87.790200    1\n",
      "Length: 78176, dtype: int64\n",
      "\n",
      "category\n",
      "doctor                     13267\n",
      "store                      12944\n",
      "restaurant                  8795\n",
      "health                      4858\n",
      "general_contractor          4789\n",
      "beauty_salon_spa            4353\n",
      "dentist                     4259\n",
      "church                      4105\n",
      "school                      3769\n",
      "lawyer                      3658\n",
      "insurance_agency            3497\n",
      "car_repair                  3112\n",
      "real_estate_agency          2936\n",
      "finance                     2920\n",
      "park                        2622\n",
      "accounting                  2252\n",
      "clothing_store              2251\n",
      "atm                         2232\n",
      "moving_company              2002\n",
      "laundry                     1663\n",
      "electronics_store           1590\n",
      "pharmacy                    1496\n",
      "physiotherapist             1278\n",
      "grocery_or_supermarket      1181\n",
      "bar                         1157\n",
      "bank                        1007\n",
      "convenience_store            996\n",
      "furniture_store              946\n",
      "home_goods_store             914\n",
      "local_government_office      849\n",
      "bakery                       808\n",
      "electrician                  797\n",
      "painter                      757\n",
      "car_dealer                   755\n",
      "plumber                      745\n",
      "travel_agency                727\n",
      "hair_care                    646\n",
      "lodging                      627\n",
      "liquor_store                 626\n",
      "meal_delivery_takeaway       583\n",
      "roofing_contractor           570\n",
      "shoe_store                   549\n",
      "florist                      545\n",
      "jewelry_store                509\n",
      "art_gallery                  500\n",
      "hardware_store               497\n",
      "veterinary_care              467\n",
      "funeral_home                 411\n",
      "cafe                         406\n",
      "hospital                     392\n",
      "department_store             367\n",
      "night_club                   354\n",
      "gym                          351\n",
      "university                   321\n",
      "library                      314\n",
      "parking                      309\n",
      "book_store                   308\n",
      "car_rental                   287\n",
      "storage                      286\n",
      "car_wash                     284\n",
      "gas_station                  283\n",
      "shopping_mall                279\n",
      "post_office                  235\n",
      "cemetery                     196\n",
      "police                       190\n",
      "fire_station                 185\n",
      "movie_theater                160\n",
      "pet_store                    151\n",
      "synagogue                    128\n",
      "bicycle_store                120\n",
      "movie_rental                 106\n",
      "museum                       105\n",
      "stadium                       75\n",
      "amusement_park                70\n",
      "airport                       60\n",
      "embassy                       55\n",
      "courthouse                    43\n",
      "rv_park                       33\n",
      "Length: 78, dtype: int64\n",
      "\n"
     ]
    }
   ],
   "source": [
    "#categorical summaries\n",
    "for c in [u'city', u'y', u'x', u'category']:\n",
    "    print c\n",
    "    print pd.value_counts(goog[c])\n",
    "    print"
   ]
  },
  {
   "cell_type": "code",
   "execution_count": null,
   "metadata": {
    "collapsed": true
   },
   "outputs": [],
   "source": []
  }
 ],
 "metadata": {
  "kernelspec": {
   "display_name": "Python 2",
   "language": "python",
   "name": "python2"
  },
  "language_info": {
   "codemirror_mode": {
    "name": "ipython",
    "version": 2
   },
   "file_extension": ".py",
   "mimetype": "text/x-python",
   "name": "python",
   "nbconvert_exporter": "python",
   "pygments_lexer": "ipython2",
   "version": "2.7.10"
  }
 },
 "nbformat": 4,
 "nbformat_minor": 0
}
